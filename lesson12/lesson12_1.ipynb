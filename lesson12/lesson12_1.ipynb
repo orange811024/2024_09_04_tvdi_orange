{
 "cells": [
  {
   "cell_type": "code",
   "execution_count": 2,
   "metadata": {},
   "outputs": [
    {
     "data": {
      "text/plain": [
       "'https://data.moenv.gov.tw/api/v2/aqx_p_432?api_key={os.environ[\"AQI_KEY\"]}&limit=1000&sort=ImportDate%20desc&format=JSON'"
      ]
     },
     "execution_count": 2,
     "metadata": {},
     "output_type": "execute_result"
    }
   ],
   "source": [
    "from dotenv import load_dotenv\n",
    "import os\n",
    "load_dotenv()\n",
    "url = 'https://data.moenv.gov.tw/api/v2/aqx_p_432?api_key={os.environ[\"AQI_KEY\"]}&limit=1000&sort=ImportDate%20desc&format=JSON'\n",
    "url"
   ]
  }
 ],
 "metadata": {
  "kernelspec": {
   "display_name": "tvdi",
   "language": "python",
   "name": "python3"
  },
  "language_info": {
   "codemirror_mode": {
    "name": "ipython",
    "version": 3
   },
   "file_extension": ".py",
   "mimetype": "text/x-python",
   "name": "python",
   "nbconvert_exporter": "python",
   "pygments_lexer": "ipython3",
   "version": "3.11.10"
  }
 },
 "nbformat": 4,
 "nbformat_minor": 2
}
