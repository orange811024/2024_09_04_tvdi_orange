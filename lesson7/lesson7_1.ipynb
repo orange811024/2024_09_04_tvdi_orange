{
 "cells": [
  {
   "cell_type": "code",
   "execution_count": 4,
   "metadata": {},
   "outputs": [],
   "source": [
    "import sqlite3\n",
    "conn = sqlite3.connect(\"AQI.db\")\n",
    "with conn:\n",
    "    sql = '''\n",
    "    CREATE TABLE IF NOT EXISTS records (\n",
    "        id INTEGER NOT NULL PRIMARY KEY AUTOINCREMENT,\n",
    "        sitename TEXT NOT NULL,\n",
    "        county TEXT,\n",
    "        aqi INTEGER,\n",
    "        status TEXT,\n",
    "        pm25 NUMERIC,\n",
    "        date TEXT,\n",
    "        lat NUMERIC,\n",
    "        lon NUMERIC,\n",
    "        UNIQUE(sitename,date)\n",
    "    );\n",
    "    '''\n",
    "    cursor = conn.cursor()\n",
    "    cursor.execute(sql)"
   ]
  },
  {
   "cell_type": "code",
   "execution_count": 15,
   "metadata": {},
   "outputs": [
    {
     "name": "stdout",
     "output_type": "stream",
     "text": [
      "['潮州', '苗栗', '斗六', '馬公', '板橋', '前金', '西屯', '大園', '三義', '觀音', '中山', '豐原', '三重', '高雄（湖內）', '新竹', '臺南', '花蓮', '新莊', '麥寮', '新營', '宜蘭', '頭份', '金門', '林園', '冬山', '新北(樹林)', '桃園', '鳳山', '士林', '馬祖', '富貴角', '萬里', '竹山', '宜蘭（頭城）', '臺西', '淡水', '埔里', '永和', '松山', '湖口', '龍潭', '橋頭', '二林', '大同', '小港', '土城', '彰化（員林）', '朴子', '線西', '善化', '忠明', '楠梓', '臺南（麻豆）', '汐止', '大里', '南投', '關山', '彰化', '基隆', '菜寮', '臺東', '竹東', '屏東', '新港', '屏東（琉球）', '左營', '中壢', '沙鹿', '林口', '恆春', '陽明', '平鎮', '嘉義', '仁武', '前鎮', '萬華', '安南', '美濃', '復興', '崙背', '大寮', '古亭', '大城', '新店', '屏東(枋山)']\n"
     ]
    }
   ],
   "source": [
    "import requests\n",
    "\n",
    "url = 'https://data.moenv.gov.tw/api/v2/aqx_p_488?api_key=e8dd42e6-9b8b-43f8-991e-b3dee723a52d&limit=1000&sort=datacreationdate%20desc&format=JSON'\n",
    "try:\n",
    "    response = requests.get(url)\n",
    "    response.raise_for_status()\n",
    "    data = response.json()\n",
    "except Exception as e:\n",
    "    print(e)\n",
    "else:\n",
    "    sitenames = set()\n",
    "    for items in data['records']:\n",
    "        sitenames.add(items['sitename'])\n",
    "\n",
    "    sitenames = list(sitenames)\n",
    "print(sitenames)"
   ]
  },
  {
   "cell_type": "code",
   "execution_count": 16,
   "metadata": {},
   "outputs": [
    {
     "data": {
      "text/plain": [
       "[['2024-11-04 10:00', '屏東縣', '34', '18', '良好', '22.260899', '120.651472'],\n",
       " ['2024-11-04 10:00', '屏東縣', '34', '18', '良好', '22.260899', '120.651472'],\n",
       " ['2024-11-04 09:00', '屏東縣', '32', '5', '良好', '22.260899', '120.651472'],\n",
       " ['2024-11-04 09:00', '屏東縣', '32', '5', '良好', '22.260899', '120.651472'],\n",
       " ['2024-11-04 08:00', '屏東縣', '33', '6', '良好', '22.260899', '120.651472'],\n",
       " ['2024-11-04 08:00', '屏東縣', '33', '6', '良好', '22.260899', '120.651472'],\n",
       " ['2024-11-04 07:00', '屏東縣', '33', '5', '良好', '22.260899', '120.651472'],\n",
       " ['2024-11-04 07:00', '屏東縣', '33', '5', '良好', '22.260899', '120.651472'],\n",
       " ['2024-11-04 06:00', '屏東縣', '35', '4', '良好', '22.260899', '120.651472'],\n",
       " ['2024-11-04 06:00', '屏東縣', '35', '4', '良好', '22.260899', '120.651472'],\n",
       " ['2024-11-04 05:00', '屏東縣', '35', '3', '良好', '22.260899', '120.651472'],\n",
       " ['2024-11-04 05:00', '屏東縣', '35', '3', '良好', '22.260899', '120.651472']]"
      ]
     },
     "execution_count": 16,
     "metadata": {},
     "output_type": "execute_result"
    }
   ],
   "source": [
    "import datasource\n",
    "datasource.get_selected_data(sitename='屏東(枋山)')"
   ]
  },
  {
   "cell_type": "code",
   "execution_count": 20,
   "metadata": {},
   "outputs": [],
   "source": [
    "\n",
    "import sqlite3\n",
    "conn = sqlite3.connect(\"AQI.db\")\n",
    "with conn:\n",
    "    sql = '''INSERT OR IGNORE INTO records(sitename,county,aqi,status,pm25,date,lat,lon)\n",
    "    values ('屏東(枋山)','屏東縣', 34, '良好',18,'2024-11-04 10:00', 22.260899, 120.651472);\n",
    "    '''\n",
    "    cursor = conn.cursor()\n",
    "    cursor.execute(sql)"
   ]
  },
  {
   "cell_type": "code",
   "execution_count": 22,
   "metadata": {},
   "outputs": [],
   "source": [
    "import sqlite3\n",
    "conn = sqlite3.connect(\"AQI.db\")\n",
    "url = 'https://data.moenv.gov.tw/api/v2/aqx_p_488?api_key=e8dd42e6-9b8b-43f8-991e-b3dee723a52d&limit=1000&sort=datacreationdate%20desc&format=JSON'\n",
    "try:\n",
    "    response = requests.get(url)\n",
    "    response.raise_for_status()\n",
    "    data = response.json()\n",
    "except Exception as e:\n",
    "    print(e)\n",
    "else:\n",
    "    sitenames = set()\n",
    "    with conn:\n",
    "        cursor = conn.cursor()\n",
    "        for items in data['records']:\n",
    "            sitename = items['sitename']\n",
    "            county = items['county']\n",
    "            aqi = int(items['aqi']) if items['aqi'] != '' else 0\n",
    "            status = items['status']\n",
    "            pm25 = float(items['pm2.5']) if items['pm2.5'] != '' else 0.0\n",
    "            date = items['datacreationdate']\n",
    "            lon = float(items['longitude']) if items['longitude'] != '' else 0.0\n",
    "            lat = float(items['latitude']) if items['latitude'] != '' else 0.0\n",
    "            sql = '''INSERT OR IGNORE INTO records(sitename,county,aqi,status,pm25,date,lat,lon)\n",
    "                    values (?,?, ?, ?,?,?,?,?);\n",
    "            '''\n",
    "            cursor.execute(sql,(sitename, county, aqi, status,pm25,date,lat,lon))"
   ]
  }
 ],
 "metadata": {
  "kernelspec": {
   "display_name": "tvdi",
   "language": "python",
   "name": "python3"
  },
  "language_info": {
   "codemirror_mode": {
    "name": "ipython",
    "version": 3
   },
   "file_extension": ".py",
   "mimetype": "text/x-python",
   "name": "python",
   "nbconvert_exporter": "python",
   "pygments_lexer": "ipython3",
   "version": "3.11.10"
  }
 },
 "nbformat": 4,
 "nbformat_minor": 2
}
