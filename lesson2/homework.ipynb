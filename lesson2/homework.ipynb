{
 "cells": [
  {
   "cell_type": "code",
   "execution_count": 1,
   "metadata": {},
   "outputs": [
    {
     "name": "stdout",
     "output_type": "stream",
     "text": [
      "['name', 'age', 'city']\n",
      "['John', '23', 'New York']\n",
      "['Jane', '29', 'Los Angeles']\n",
      "['Doe', '25', 'Chicago']\n",
      "['Anna', '22', 'Houston']\n"
     ]
    }
   ],
   "source": [
    "import csv\n",
    "\n",
    "with open('student.csv', encoding='utf-8')as file:\n",
    "  csv_reader = csv.reader(file)\n",
    "  for row in csv_reader:\n",
    "    print(row)"
   ]
  },
  {
   "cell_type": "code",
   "execution_count": 2,
   "metadata": {},
   "outputs": [
    {
     "name": "stdout",
     "output_type": "stream",
     "text": [
      "{'name': 'John', 'age': '23', 'city': 'New York'}\n",
      "{'name': 'Jane', 'age': '29', 'city': 'Los Angeles'}\n",
      "{'name': 'Doe', 'age': '25', 'city': 'Chicago'}\n",
      "{'name': 'Anna', 'age': '22', 'city': 'Houston'}\n"
     ]
    }
   ],
   "source": [
    "import csv\n",
    "\n",
    "file_path = 'student.csv'\n",
    "\n",
    "data_list = []\n",
    "\n",
    "with open(file_path, encoding='utf-8')as file:\n",
    "  reader = csv.DictReader(file)\n",
    "  for row in reader:\n",
    "    data_list.append({\n",
    "      'name': row['name'],\n",
    "      'age': row['age'],\n",
    "      'city': row['city']\n",
    "    })\n",
    "\n",
    "for student in data_list:\n",
    "  print(student)"
   ]
  },
  {
   "cell_type": "code",
   "execution_count": 5,
   "metadata": {},
   "outputs": [
    {
     "name": "stdout",
     "output_type": "stream",
     "text": [
      "{'name': 'Jane', 'age': '29', 'city': 'Los Angeles'}\n"
     ]
    }
   ],
   "source": [
    "import csv\n",
    "\n",
    "file_path = 'student.csv'\n",
    "\n",
    "data_list = []\n",
    "\n",
    "with open(file_path, encoding='utf-8')as file:\n",
    "  reader = csv.DictReader(file)\n",
    "  for row in reader:\n",
    "    data_list.append({\n",
    "      'name': row['name'],\n",
    "      'age': row['age'],\n",
    "      'city': row['city']\n",
    "    })\n",
    "\n",
    "filtered_students = []\n",
    "for student in data_list:\n",
    "    if int(student['age']) > 25:\n",
    "        filtered_students.append(student)\n",
    "\n",
    "for student in filtered_students:\n",
    "    print(student)"
   ]
  },
  {
   "cell_type": "code",
   "execution_count": 6,
   "metadata": {},
   "outputs": [],
   "source": [
    "import csv\n",
    "\n",
    "with open('student.csv', encoding='utf-8') as file:\n",
    "    reader = csv.DictReader(file)\n",
    "    filtered_students = [row for row in reader if int(row['age']) > 25]\n",
    "\n",
    "with open('filtered_data.csv', mode='w', encoding='utf-8', newline='') as file:\n",
    "    file.write('name,age,city\\n')\n",
    "    for student in filtered_students:\n",
    "        file.write(f\"{student['name']},{student['age']},{student['city']}\\n\")"
   ]
  }
 ],
 "metadata": {
  "kernelspec": {
   "display_name": "tvdi",
   "language": "python",
   "name": "python3"
  },
  "language_info": {
   "codemirror_mode": {
    "name": "ipython",
    "version": 3
   },
   "file_extension": ".py",
   "mimetype": "text/x-python",
   "name": "python",
   "nbconvert_exporter": "python",
   "pygments_lexer": "ipython3",
   "version": "3.11.10"
  }
 },
 "nbformat": 4,
 "nbformat_minor": 2
}
