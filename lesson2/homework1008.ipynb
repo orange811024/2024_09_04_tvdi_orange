{
 "cells": [
  {
   "cell_type": "code",
   "execution_count": 3,
   "metadata": {},
   "outputs": [
    {
     "name": "stdout",
     "output_type": "stream",
     "text": [
      "name,age,city\n",
      "John,23,New York\n",
      "Jane,29,Los Angeles\n",
      "Doe,25,Chicago\n",
      "Anna,22,Houston\n"
     ]
    }
   ],
   "source": [
    "import csv\n",
    "with open('student.csv',encoding='utf-8')as file:\n",
    "    content = file.read()\n",
    "    print(content)\n"
   ]
  },
  {
   "cell_type": "code",
   "execution_count": 10,
   "metadata": {},
   "outputs": [
    {
     "name": "stdout",
     "output_type": "stream",
     "text": [
      "[['name', 'age', 'city'], ['John', '23', 'New York'], ['Jane', '29', 'Los Angeles'], ['Doe', '25', 'Chicago'], ['Anna', '22', 'Houston']]\n"
     ]
    }
   ],
   "source": [
    "import csv\n",
    "\n",
    "data_list = []\n",
    "\n",
    "with open('student.csv',encoding='utf-8')as file:\n",
    "    reader = csv.reader(file)\n",
    "    for row in reader:\n",
    "        data_list.append(row)\n",
    "\n",
    "print(data_list)"
   ]
  }
 ],
 "metadata": {
  "kernelspec": {
   "display_name": "tvdi",
   "language": "python",
   "name": "python3"
  },
  "language_info": {
   "codemirror_mode": {
    "name": "ipython",
    "version": 3
   },
   "file_extension": ".py",
   "mimetype": "text/x-python",
   "name": "python",
   "nbconvert_exporter": "python",
   "pygments_lexer": "ipython3",
   "version": "3.11.10"
  }
 },
 "nbformat": 4,
 "nbformat_minor": 2
}
