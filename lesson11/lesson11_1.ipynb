{
 "cells": [
  {
   "cell_type": "code",
   "execution_count": 4,
   "metadata": {},
   "outputs": [
    {
     "data": {
      "text/plain": [
       "'相加後的值是8'"
      ]
     },
     "execution_count": 4,
     "metadata": {},
     "output_type": "execute_result"
    }
   ],
   "source": [
    "## python decorator\n",
    "## Function可以有資料類型\n",
    "## function可以當作別的function的引數值\n",
    "from typing import Callable\n",
    "\n",
    "MyFunctionType = Callable[[int,int],str]\n",
    "\n",
    "def my_function(a:int, b:int) -> str:\n",
    "    return f\"相加後的值是{a + b}\"\n",
    "\n",
    "\n",
    "def apply_function(func:MyFunctionType, x:int, y:int) -> str:\n",
    "    return func(x, y)\n",
    "\n",
    "apply_function(my_function, 3, 5)\n"
   ]
  }
 ],
 "metadata": {
  "kernelspec": {
   "display_name": "tvdi",
   "language": "python",
   "name": "python3"
  },
  "language_info": {
   "codemirror_mode": {
    "name": "ipython",
    "version": 3
   },
   "file_extension": ".py",
   "mimetype": "text/x-python",
   "name": "python",
   "nbconvert_exporter": "python",
   "pygments_lexer": "ipython3",
   "version": "3.11.10"
  }
 },
 "nbformat": 4,
 "nbformat_minor": 2
}
