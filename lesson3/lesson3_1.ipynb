{
 "cells": [
  {
   "cell_type": "code",
   "execution_count": null,
   "metadata": {},
   "outputs": [],
   "source": [
    "#1.1 建立一個空class實體(工廠)\n",
    "class person():\n",
    "    pass     #pass=不寫任何功能\n"
   ]
  },
  {
   "cell_type": "code",
   "execution_count": null,
   "metadata": {},
   "outputs": [],
   "source": [
    "#1.1 初始化物件(initial，__init__)\n",
    "p1 = person()     #p1=robert\n",
    "type(p1)\n",
    "\n",
    "p2 = person()\n",
    "type(p2)"
   ]
  },
  {
   "cell_type": "code",
   "execution_count": null,
   "metadata": {},
   "outputs": [],
   "source": [
    "#1.2 建立一個空class實體(工廠)\n",
    "class person(object):\n",
    "    def __init__(self):\n",
    "        self.name = 'robert'"
   ]
  },
  {
   "cell_type": "code",
   "execution_count": null,
   "metadata": {},
   "outputs": [],
   "source": [
    "#1.2 初始化物件(initial，__init__)\n",
    "p1 = person()     #p1=robert\n",
    "print(p1.name)\n",
    "\n",
    "p2 = person()\n",
    "print(p2.name)"
   ]
  },
  {
   "cell_type": "code",
   "execution_count": 9,
   "metadata": {},
   "outputs": [],
   "source": [
    "#1.3 建立一個空class實體(工廠)\n",
    "class person(object):\n",
    "#    pass     #pass=不寫任何功能\n",
    "    def __init__(self,n):\n",
    "        self.name = n\n",
    "#        self.name = 'robert'"
   ]
  },
  {
   "cell_type": "code",
   "execution_count": 12,
   "metadata": {},
   "outputs": [
    {
     "name": "stdout",
     "output_type": "stream",
     "text": [
      "robert\n",
      "LIN\n"
     ]
    }
   ],
   "source": [
    "#1.3 初始化物件(initial，__init__)\n",
    "p1 = person(n='robert')     #p1=robert\n",
    "print(p1.name)\n",
    "\n",
    "p2 = person(n='LIN')\n",
    "print(p2.name)"
   ]
  },
  {
   "cell_type": "code",
   "execution_count": 13,
   "metadata": {},
   "outputs": [],
   "source": [
    "#1.4 建立一個空class實體(工廠)\n",
    "class person(object):\n",
    "    def __init__(self,n,a):\n",
    "        self.name = n\n",
    "        self.age = a"
   ]
  },
  {
   "cell_type": "code",
   "execution_count": 15,
   "metadata": {},
   "outputs": [
    {
     "name": "stdout",
     "output_type": "stream",
     "text": [
      "robert\n",
      "18\n",
      "=================\n",
      "LIN\n",
      "28\n"
     ]
    }
   ],
   "source": [
    "#1.4初始化物件(initial，__init__)\n",
    "p1 = person(n='robert',a=18)     #p1=robert\n",
    "print(p1.name)\n",
    "print(p1.age)\n",
    "\n",
    "print('=================')\n",
    "\n",
    "p2 = person(n='LIN',a=28)\n",
    "print(p2.name)\n",
    "print(p2.age)"
   ]
  },
  {
   "cell_type": "code",
   "execution_count": 17,
   "metadata": {},
   "outputs": [],
   "source": [
    "#1.5 建立一個空class實體(工廠)\n",
    "class person(object):\n",
    "    def __init__(self,n:str,a:int):     #type hint\n",
    "        self.name = n     #attribute\n",
    "        self.age = a     #attribute"
   ]
  },
  {
   "cell_type": "code",
   "execution_count": 18,
   "metadata": {},
   "outputs": [
    {
     "name": "stdout",
     "output_type": "stream",
     "text": [
      "robert\n",
      "18\n",
      "=================\n",
      "LIN\n",
      "28\n"
     ]
    }
   ],
   "source": [
    "#1.5初始化物件(initial，__init__)\n",
    "p1 = person(n='robert',a=18)     #p1=robert\n",
    "print(p1.name)\n",
    "print(p1.age)\n",
    "\n",
    "print('=================')\n",
    "\n",
    "p2 = person(n='LIN',a=28)\n",
    "print(p2.name)\n",
    "print(p2.age)"
   ]
  }
 ],
 "metadata": {
  "kernelspec": {
   "display_name": "tvdi",
   "language": "python",
   "name": "python3"
  },
  "language_info": {
   "codemirror_mode": {
    "name": "ipython",
    "version": 3
   },
   "file_extension": ".py",
   "mimetype": "text/x-python",
   "name": "python",
   "nbconvert_exporter": "python",
   "pygments_lexer": "ipython3",
   "version": "3.11.10"
  }
 },
 "nbformat": 4,
 "nbformat_minor": 2
}
