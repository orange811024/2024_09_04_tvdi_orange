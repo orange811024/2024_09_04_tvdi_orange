{
 "cells": [
  {
   "cell_type": "code",
   "execution_count": 13,
   "metadata": {},
   "outputs": [
    {
     "name": "stdout",
     "output_type": "stream",
     "text": [
      "<csv.DictReader object at 0x000001B801975610>\n",
      "{'name': 'John', 'age': '23', 'city': 'New York'}\n",
      "{'name': 'Jane', 'age': '29', 'city': 'Los Angeles'}\n",
      "{'name': 'Doe', 'age': '25', 'city': 'Chicago'}\n",
      "{'name': 'Anna', 'age': '22', 'city': 'Houston'}\n"
     ]
    }
   ],
   "source": [
    "import csv\n",
    "\n",
    "with open('student.csv', encoding='utf-8')as file:\n",
    "    reader = csv.DictReader(file)\n",
    "    print(reader)\n",
    "    for row in reader:     #row:行, 一排;一行;一列,\n",
    "        print(row)\n"
   ]
  },
  {
   "cell_type": "code",
   "execution_count": 27,
   "metadata": {},
   "outputs": [
    {
     "name": "stdout",
     "output_type": "stream",
     "text": [
      "[{'name': 'John', 'age': '23', 'city': 'New York'}, {'name': 'Jane', 'age': '29', 'city': 'Los Angeles'}, {'name': 'Doe', 'age': '25', 'city': 'Chicago'}, {'name': 'Anna', 'age': '22', 'city': 'Houston'}]\n",
      "{'name': 'John', 'age': '23', 'city': 'New York'}\n",
      "{'name': 'Jane', 'age': '29', 'city': 'Los Angeles'}\n",
      "{'name': 'Doe', 'age': '25', 'city': 'Chicago'}\n",
      "{'name': 'Anna', 'age': '22', 'city': 'Houston'}\n",
      "{'name': 'Jane', 'age': '29', 'city': 'Los Angeles'}\n",
      "[{'name': 'Jane', 'age': '29', 'city': 'Los Angeles'}]\n"
     ]
    }
   ],
   "source": [
    "import csv\n",
    "\n",
    "with open('student.csv', encoding='utf-8')as file:\n",
    "    reader = list(csv.DictReader(file))\n",
    "    print(reader)\n",
    "    for row in reader:\n",
    "        print(row)\n",
    "\n",
    "new_list = []\n",
    "for row in reader:\n",
    "    if int(row['age']) > 25:\n",
    "        print(row)\n",
    "        new_list.append(row)\n",
    "\n",
    "print(new_list)\n"
   ]
  },
  {
   "cell_type": "code",
   "execution_count": 28,
   "metadata": {},
   "outputs": [
    {
     "name": "stdout",
     "output_type": "stream",
     "text": [
      "[{'name': 'Jane', 'age': '29', 'city': 'Los Angeles'}]\n"
     ]
    }
   ],
   "source": [
    "print(new_list)\n",
    "with open('filtered_data.csv',mode='w',encoding='utf-8',newline='')as f:\n",
    "    fieldnames = ['name','age','city']\n",
    "    dict_writer = csv.DictWriter(f,fieldnames=fieldnames)\n",
    "    dict_writer.writeheader()\n",
    "    for item in new_list:\n",
    "        dict_writer.writerow(item)"
   ]
  }
 ],
 "metadata": {
  "kernelspec": {
   "display_name": "tvdi",
   "language": "python",
   "name": "python3"
  },
  "language_info": {
   "codemirror_mode": {
    "name": "ipython",
    "version": 3
   },
   "file_extension": ".py",
   "mimetype": "text/x-python",
   "name": "python",
   "nbconvert_exporter": "python",
   "pygments_lexer": "ipython3",
   "version": "3.11.10"
  }
 },
 "nbformat": 4,
 "nbformat_minor": 2
}
